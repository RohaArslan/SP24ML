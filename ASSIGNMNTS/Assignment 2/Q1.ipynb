{
  "nbformat": 4,
  "nbformat_minor": 0,
  "metadata": {
    "colab": {
      "provenance": [],
      "history_visible": true,
      "authorship_tag": "ABX9TyOuSsDw2eiEqMEaHjQ+2Fxk",
      "include_colab_link": true
    },
    "kernelspec": {
      "name": "python3",
      "display_name": "Python 3"
    },
    "language_info": {
      "name": "python"
    }
  },
  "cells": [
    {
      "cell_type": "markdown",
      "metadata": {
        "id": "view-in-github",
        "colab_type": "text"
      },
      "source": [
        "<a href=\"https://colab.research.google.com/github/RohaArslan/SP24ML/blob/main/ASSIGNMNTS/Assignment%202/Q1.ipynb\" target=\"_parent\"><img src=\"https://colab.research.google.com/assets/colab-badge.svg\" alt=\"Open In Colab\"/></a>"
      ]
    },
    {
      "cell_type": "code",
      "source": [
        "# Date 26.03.24\n",
        "# CSC354 – Assignmen2 – ML – Decision Trees\n",
        "# ROHA ARSLAN\n",
        "# FA21-BSE-116\n",
        "# In Question 1 I'm importing data from drive, then used encoding. After splitting the data, I implemented decision tree(c4.5 and random forest) (baseline) then implemented random search and grid search on data, and then experimented with parameters to increase the accuracy more than of what baseline models had\n",
        "import pandas as pd\n",
        "from sklearn.model_selection import train_test_split, RandomizedSearchCV, GridSearchCV\n",
        "from sklearn.tree import DecisionTreeClassifier\n",
        "from sklearn.ensemble import RandomForestClassifier\n",
        "from sklearn.metrics import classification_report\n",
        "from sklearn.model_selection import RandomizedSearchCV, GridSearchCV\n",
        "from sklearn.tree import DecisionTreeClassifier\n",
        "from sklearn.metrics import accuracy_score\n",
        "from google.colab import drive\n",
        "drive.mount('/content/drive')\n",
        "file_path = '/content/drive/My Drive/ML/datasaurus.csv'\n",
        "dataset = pd.read_csv(file_path)\n"
      ],
      "metadata": {
        "colab": {
          "base_uri": "https://localhost:8080/"
        },
        "id": "Td875shgFTOR",
        "outputId": "343a8925-0d9d-4217-a500-b3c8d727754b"
      },
      "execution_count": null,
      "outputs": [
        {
          "output_type": "stream",
          "name": "stdout",
          "text": [
            "Mounted at /content/drive\n"
          ]
        }
      ]
    },
    {
      "cell_type": "code",
      "source": [
        "\n",
        "print(dataset)"
      ],
      "metadata": {
        "colab": {
          "base_uri": "https://localhost:8080/"
        },
        "id": "_nSeRnuPKCHW",
        "outputId": "65e247b7-4dd2-40f6-85e3-a4d4991e629a"
      },
      "execution_count": null,
      "outputs": [
        {
          "output_type": "stream",
          "name": "stdout",
          "text": [
            "         dataset          x          y\n",
            "0           dino  55.384600  97.179500\n",
            "1           dino  51.538500  96.025600\n",
            "2           dino  46.153800  94.487200\n",
            "3           dino  42.820500  91.410300\n",
            "4           dino  40.769200  88.333300\n",
            "...          ...        ...        ...\n",
            "1841  wide_lines  33.674442  26.090490\n",
            "1842  wide_lines  75.627255  37.128752\n",
            "1843  wide_lines  40.610125  89.136240\n",
            "1844  wide_lines  39.114366  96.481751\n",
            "1845  wide_lines  34.583829  89.588902\n",
            "\n",
            "[1846 rows x 3 columns]\n"
          ]
        }
      ]
    },
    {
      "cell_type": "markdown",
      "source": [],
      "metadata": {
        "id": "AZB6m-qkOFLM"
      }
    },
    {
      "cell_type": "code",
      "source": [
        "\n",
        "X = dataset[['x','y']]\n",
        "y = dataset['dataset']\n",
        "\n",
        "# Splitting data\n",
        "X_train, X_test, y_train, y_test = train_test_split(X, y, test_size=0.2, random_state=42)\n",
        "dataset"
      ],
      "metadata": {
        "colab": {
          "base_uri": "https://localhost:8080/",
          "height": 423
        },
        "id": "8I4FLKOTKPzk",
        "outputId": "75fde0f9-b2a6-4eb4-8464-01ab42f57289"
      },
      "execution_count": null,
      "outputs": [
        {
          "output_type": "execute_result",
          "data": {
            "text/plain": [
              "         dataset          x          y\n",
              "0           dino  55.384600  97.179500\n",
              "1           dino  51.538500  96.025600\n",
              "2           dino  46.153800  94.487200\n",
              "3           dino  42.820500  91.410300\n",
              "4           dino  40.769200  88.333300\n",
              "...          ...        ...        ...\n",
              "1841  wide_lines  33.674442  26.090490\n",
              "1842  wide_lines  75.627255  37.128752\n",
              "1843  wide_lines  40.610125  89.136240\n",
              "1844  wide_lines  39.114366  96.481751\n",
              "1845  wide_lines  34.583829  89.588902\n",
              "\n",
              "[1846 rows x 3 columns]"
            ],
            "text/html": [
              "\n",
              "  <div id=\"df-492356c9-2720-41b1-91fb-bb14fb711df7\" class=\"colab-df-container\">\n",
              "    <div>\n",
              "<style scoped>\n",
              "    .dataframe tbody tr th:only-of-type {\n",
              "        vertical-align: middle;\n",
              "    }\n",
              "\n",
              "    .dataframe tbody tr th {\n",
              "        vertical-align: top;\n",
              "    }\n",
              "\n",
              "    .dataframe thead th {\n",
              "        text-align: right;\n",
              "    }\n",
              "</style>\n",
              "<table border=\"1\" class=\"dataframe\">\n",
              "  <thead>\n",
              "    <tr style=\"text-align: right;\">\n",
              "      <th></th>\n",
              "      <th>dataset</th>\n",
              "      <th>x</th>\n",
              "      <th>y</th>\n",
              "    </tr>\n",
              "  </thead>\n",
              "  <tbody>\n",
              "    <tr>\n",
              "      <th>0</th>\n",
              "      <td>dino</td>\n",
              "      <td>55.384600</td>\n",
              "      <td>97.179500</td>\n",
              "    </tr>\n",
              "    <tr>\n",
              "      <th>1</th>\n",
              "      <td>dino</td>\n",
              "      <td>51.538500</td>\n",
              "      <td>96.025600</td>\n",
              "    </tr>\n",
              "    <tr>\n",
              "      <th>2</th>\n",
              "      <td>dino</td>\n",
              "      <td>46.153800</td>\n",
              "      <td>94.487200</td>\n",
              "    </tr>\n",
              "    <tr>\n",
              "      <th>3</th>\n",
              "      <td>dino</td>\n",
              "      <td>42.820500</td>\n",
              "      <td>91.410300</td>\n",
              "    </tr>\n",
              "    <tr>\n",
              "      <th>4</th>\n",
              "      <td>dino</td>\n",
              "      <td>40.769200</td>\n",
              "      <td>88.333300</td>\n",
              "    </tr>\n",
              "    <tr>\n",
              "      <th>...</th>\n",
              "      <td>...</td>\n",
              "      <td>...</td>\n",
              "      <td>...</td>\n",
              "    </tr>\n",
              "    <tr>\n",
              "      <th>1841</th>\n",
              "      <td>wide_lines</td>\n",
              "      <td>33.674442</td>\n",
              "      <td>26.090490</td>\n",
              "    </tr>\n",
              "    <tr>\n",
              "      <th>1842</th>\n",
              "      <td>wide_lines</td>\n",
              "      <td>75.627255</td>\n",
              "      <td>37.128752</td>\n",
              "    </tr>\n",
              "    <tr>\n",
              "      <th>1843</th>\n",
              "      <td>wide_lines</td>\n",
              "      <td>40.610125</td>\n",
              "      <td>89.136240</td>\n",
              "    </tr>\n",
              "    <tr>\n",
              "      <th>1844</th>\n",
              "      <td>wide_lines</td>\n",
              "      <td>39.114366</td>\n",
              "      <td>96.481751</td>\n",
              "    </tr>\n",
              "    <tr>\n",
              "      <th>1845</th>\n",
              "      <td>wide_lines</td>\n",
              "      <td>34.583829</td>\n",
              "      <td>89.588902</td>\n",
              "    </tr>\n",
              "  </tbody>\n",
              "</table>\n",
              "<p>1846 rows × 3 columns</p>\n",
              "</div>\n",
              "    <div class=\"colab-df-buttons\">\n",
              "\n",
              "  <div class=\"colab-df-container\">\n",
              "    <button class=\"colab-df-convert\" onclick=\"convertToInteractive('df-492356c9-2720-41b1-91fb-bb14fb711df7')\"\n",
              "            title=\"Convert this dataframe to an interactive table.\"\n",
              "            style=\"display:none;\">\n",
              "\n",
              "  <svg xmlns=\"http://www.w3.org/2000/svg\" height=\"24px\" viewBox=\"0 -960 960 960\">\n",
              "    <path d=\"M120-120v-720h720v720H120Zm60-500h600v-160H180v160Zm220 220h160v-160H400v160Zm0 220h160v-160H400v160ZM180-400h160v-160H180v160Zm440 0h160v-160H620v160ZM180-180h160v-160H180v160Zm440 0h160v-160H620v160Z\"/>\n",
              "  </svg>\n",
              "    </button>\n",
              "\n",
              "  <style>\n",
              "    .colab-df-container {\n",
              "      display:flex;\n",
              "      gap: 12px;\n",
              "    }\n",
              "\n",
              "    .colab-df-convert {\n",
              "      background-color: #E8F0FE;\n",
              "      border: none;\n",
              "      border-radius: 50%;\n",
              "      cursor: pointer;\n",
              "      display: none;\n",
              "      fill: #1967D2;\n",
              "      height: 32px;\n",
              "      padding: 0 0 0 0;\n",
              "      width: 32px;\n",
              "    }\n",
              "\n",
              "    .colab-df-convert:hover {\n",
              "      background-color: #E2EBFA;\n",
              "      box-shadow: 0px 1px 2px rgba(60, 64, 67, 0.3), 0px 1px 3px 1px rgba(60, 64, 67, 0.15);\n",
              "      fill: #174EA6;\n",
              "    }\n",
              "\n",
              "    .colab-df-buttons div {\n",
              "      margin-bottom: 4px;\n",
              "    }\n",
              "\n",
              "    [theme=dark] .colab-df-convert {\n",
              "      background-color: #3B4455;\n",
              "      fill: #D2E3FC;\n",
              "    }\n",
              "\n",
              "    [theme=dark] .colab-df-convert:hover {\n",
              "      background-color: #434B5C;\n",
              "      box-shadow: 0px 1px 3px 1px rgba(0, 0, 0, 0.15);\n",
              "      filter: drop-shadow(0px 1px 2px rgba(0, 0, 0, 0.3));\n",
              "      fill: #FFFFFF;\n",
              "    }\n",
              "  </style>\n",
              "\n",
              "    <script>\n",
              "      const buttonEl =\n",
              "        document.querySelector('#df-492356c9-2720-41b1-91fb-bb14fb711df7 button.colab-df-convert');\n",
              "      buttonEl.style.display =\n",
              "        google.colab.kernel.accessAllowed ? 'block' : 'none';\n",
              "\n",
              "      async function convertToInteractive(key) {\n",
              "        const element = document.querySelector('#df-492356c9-2720-41b1-91fb-bb14fb711df7');\n",
              "        const dataTable =\n",
              "          await google.colab.kernel.invokeFunction('convertToInteractive',\n",
              "                                                    [key], {});\n",
              "        if (!dataTable) return;\n",
              "\n",
              "        const docLinkHtml = 'Like what you see? Visit the ' +\n",
              "          '<a target=\"_blank\" href=https://colab.research.google.com/notebooks/data_table.ipynb>data table notebook</a>'\n",
              "          + ' to learn more about interactive tables.';\n",
              "        element.innerHTML = '';\n",
              "        dataTable['output_type'] = 'display_data';\n",
              "        await google.colab.output.renderOutput(dataTable, element);\n",
              "        const docLink = document.createElement('div');\n",
              "        docLink.innerHTML = docLinkHtml;\n",
              "        element.appendChild(docLink);\n",
              "      }\n",
              "    </script>\n",
              "  </div>\n",
              "\n",
              "\n",
              "<div id=\"df-304fc1f4-ca35-48c5-877d-0005d7fd913c\">\n",
              "  <button class=\"colab-df-quickchart\" onclick=\"quickchart('df-304fc1f4-ca35-48c5-877d-0005d7fd913c')\"\n",
              "            title=\"Suggest charts\"\n",
              "            style=\"display:none;\">\n",
              "\n",
              "<svg xmlns=\"http://www.w3.org/2000/svg\" height=\"24px\"viewBox=\"0 0 24 24\"\n",
              "     width=\"24px\">\n",
              "    <g>\n",
              "        <path d=\"M19 3H5c-1.1 0-2 .9-2 2v14c0 1.1.9 2 2 2h14c1.1 0 2-.9 2-2V5c0-1.1-.9-2-2-2zM9 17H7v-7h2v7zm4 0h-2V7h2v10zm4 0h-2v-4h2v4z\"/>\n",
              "    </g>\n",
              "</svg>\n",
              "  </button>\n",
              "\n",
              "<style>\n",
              "  .colab-df-quickchart {\n",
              "      --bg-color: #E8F0FE;\n",
              "      --fill-color: #1967D2;\n",
              "      --hover-bg-color: #E2EBFA;\n",
              "      --hover-fill-color: #174EA6;\n",
              "      --disabled-fill-color: #AAA;\n",
              "      --disabled-bg-color: #DDD;\n",
              "  }\n",
              "\n",
              "  [theme=dark] .colab-df-quickchart {\n",
              "      --bg-color: #3B4455;\n",
              "      --fill-color: #D2E3FC;\n",
              "      --hover-bg-color: #434B5C;\n",
              "      --hover-fill-color: #FFFFFF;\n",
              "      --disabled-bg-color: #3B4455;\n",
              "      --disabled-fill-color: #666;\n",
              "  }\n",
              "\n",
              "  .colab-df-quickchart {\n",
              "    background-color: var(--bg-color);\n",
              "    border: none;\n",
              "    border-radius: 50%;\n",
              "    cursor: pointer;\n",
              "    display: none;\n",
              "    fill: var(--fill-color);\n",
              "    height: 32px;\n",
              "    padding: 0;\n",
              "    width: 32px;\n",
              "  }\n",
              "\n",
              "  .colab-df-quickchart:hover {\n",
              "    background-color: var(--hover-bg-color);\n",
              "    box-shadow: 0 1px 2px rgba(60, 64, 67, 0.3), 0 1px 3px 1px rgba(60, 64, 67, 0.15);\n",
              "    fill: var(--button-hover-fill-color);\n",
              "  }\n",
              "\n",
              "  .colab-df-quickchart-complete:disabled,\n",
              "  .colab-df-quickchart-complete:disabled:hover {\n",
              "    background-color: var(--disabled-bg-color);\n",
              "    fill: var(--disabled-fill-color);\n",
              "    box-shadow: none;\n",
              "  }\n",
              "\n",
              "  .colab-df-spinner {\n",
              "    border: 2px solid var(--fill-color);\n",
              "    border-color: transparent;\n",
              "    border-bottom-color: var(--fill-color);\n",
              "    animation:\n",
              "      spin 1s steps(1) infinite;\n",
              "  }\n",
              "\n",
              "  @keyframes spin {\n",
              "    0% {\n",
              "      border-color: transparent;\n",
              "      border-bottom-color: var(--fill-color);\n",
              "      border-left-color: var(--fill-color);\n",
              "    }\n",
              "    20% {\n",
              "      border-color: transparent;\n",
              "      border-left-color: var(--fill-color);\n",
              "      border-top-color: var(--fill-color);\n",
              "    }\n",
              "    30% {\n",
              "      border-color: transparent;\n",
              "      border-left-color: var(--fill-color);\n",
              "      border-top-color: var(--fill-color);\n",
              "      border-right-color: var(--fill-color);\n",
              "    }\n",
              "    40% {\n",
              "      border-color: transparent;\n",
              "      border-right-color: var(--fill-color);\n",
              "      border-top-color: var(--fill-color);\n",
              "    }\n",
              "    60% {\n",
              "      border-color: transparent;\n",
              "      border-right-color: var(--fill-color);\n",
              "    }\n",
              "    80% {\n",
              "      border-color: transparent;\n",
              "      border-right-color: var(--fill-color);\n",
              "      border-bottom-color: var(--fill-color);\n",
              "    }\n",
              "    90% {\n",
              "      border-color: transparent;\n",
              "      border-bottom-color: var(--fill-color);\n",
              "    }\n",
              "  }\n",
              "</style>\n",
              "\n",
              "  <script>\n",
              "    async function quickchart(key) {\n",
              "      const quickchartButtonEl =\n",
              "        document.querySelector('#' + key + ' button');\n",
              "      quickchartButtonEl.disabled = true;  // To prevent multiple clicks.\n",
              "      quickchartButtonEl.classList.add('colab-df-spinner');\n",
              "      try {\n",
              "        const charts = await google.colab.kernel.invokeFunction(\n",
              "            'suggestCharts', [key], {});\n",
              "      } catch (error) {\n",
              "        console.error('Error during call to suggestCharts:', error);\n",
              "      }\n",
              "      quickchartButtonEl.classList.remove('colab-df-spinner');\n",
              "      quickchartButtonEl.classList.add('colab-df-quickchart-complete');\n",
              "    }\n",
              "    (() => {\n",
              "      let quickchartButtonEl =\n",
              "        document.querySelector('#df-304fc1f4-ca35-48c5-877d-0005d7fd913c button');\n",
              "      quickchartButtonEl.style.display =\n",
              "        google.colab.kernel.accessAllowed ? 'block' : 'none';\n",
              "    })();\n",
              "  </script>\n",
              "</div>\n",
              "    </div>\n",
              "  </div>\n"
            ],
            "application/vnd.google.colaboratory.intrinsic+json": {
              "type": "dataframe",
              "variable_name": "dataset",
              "summary": "{\n  \"name\": \"dataset\",\n  \"rows\": 1846,\n  \"fields\": [\n    {\n      \"column\": \"dataset\",\n      \"properties\": {\n        \"dtype\": \"category\",\n        \"num_unique_values\": 13,\n        \"samples\": [\n          \"slant_down\",\n          \"bullseye\",\n          \"dino\"\n        ],\n        \"semantic_type\": \"\",\n        \"description\": \"\"\n      }\n    },\n    {\n      \"column\": \"x\",\n      \"properties\": {\n        \"dtype\": \"number\",\n        \"std\": 16.713001444746244,\n        \"min\": 15.5607495229,\n        \"max\": 98.2881232748,\n        \"num_unique_values\": 1804,\n        \"samples\": [\n          61.0885441374,\n          76.6667,\n          44.0013152386\n        ],\n        \"semantic_type\": \"\",\n        \"description\": \"\"\n      }\n    },\n    {\n      \"column\": \"y\",\n      \"properties\": {\n        \"dtype\": \"number\",\n        \"std\": 26.84776634379672,\n        \"min\": 0.0151193251552,\n        \"max\": 99.6946801425,\n        \"num_unique_values\": 1807,\n        \"samples\": [\n          12.0379170217,\n          91.0256,\n          49.0702512739\n        ],\n        \"semantic_type\": \"\",\n        \"description\": \"\"\n      }\n    }\n  ]\n}"
            }
          },
          "metadata": {},
          "execution_count": 4
        }
      ]
    },
    {
      "cell_type": "code",
      "source": [
        "# Baseline Decision tree Model\n",
        "baseline_tree = DecisionTreeClassifier(random_state=42)\n",
        "baseline_tree.fit(X_train, y_train)\n",
        "baseline_tree_predictions = baseline_tree.predict(X_test)\n",
        "print(\"Baseline Decision Tree Classification Report:\")\n",
        "print(classification_report(y_test, baseline_tree_predictions))\n",
        "baseline_accuracy = accuracy_score(y_test, baseline_tree_predictions)\n",
        "print(\"baseline Decision Tree Accuracy:\", baseline_accuracy)"
      ],
      "metadata": {
        "colab": {
          "base_uri": "https://localhost:8080/"
        },
        "id": "UokH2lQVKYSq",
        "outputId": "651181d4-fe8b-4fc4-fe9f-4afbaad572c0"
      },
      "execution_count": null,
      "outputs": [
        {
          "output_type": "stream",
          "name": "stdout",
          "text": [
            "Baseline Decision Tree Classification Report:\n",
            "              precision    recall  f1-score   support\n",
            "\n",
            "        away       0.21      0.21      0.21        28\n",
            "    bullseye       0.42      0.35      0.38        37\n",
            "      circle       0.36      0.54      0.43        28\n",
            "        dino       0.18      0.16      0.17        25\n",
            "        dots       0.54      0.65      0.59        20\n",
            "     h_lines       0.79      0.75      0.77        36\n",
            "  high_lines       0.29      0.29      0.29        28\n",
            "  slant_down       0.22      0.25      0.24        24\n",
            "    slant_up       0.23      0.17      0.20        29\n",
            "        star       0.66      0.70      0.68        27\n",
            "     v_lines       0.60      0.45      0.52        33\n",
            "  wide_lines       0.23      0.23      0.23        30\n",
            "     x_shape       0.32      0.36      0.34        25\n",
            "\n",
            "    accuracy                           0.40       370\n",
            "   macro avg       0.39      0.39      0.39       370\n",
            "weighted avg       0.40      0.40      0.40       370\n",
            "\n",
            "baseline Decision Tree Accuracy: 0.3972972972972973\n"
          ]
        }
      ]
    },
    {
      "cell_type": "code",
      "source": [
        "\n",
        "baseline_tree_params = baseline_tree.get_params()\n",
        "print(\"Baseline Decision Tree Parameters:\")\n",
        "print(baseline_tree_params)"
      ],
      "metadata": {
        "colab": {
          "base_uri": "https://localhost:8080/"
        },
        "id": "WXKLyg7UHBWz",
        "outputId": "da9eae35-8118-474f-e82b-62dcdd22fa57"
      },
      "execution_count": null,
      "outputs": [
        {
          "output_type": "stream",
          "name": "stdout",
          "text": [
            "Baseline Decision Tree Parameters:\n",
            "{'ccp_alpha': 0.0, 'class_weight': None, 'criterion': 'gini', 'max_depth': None, 'max_features': None, 'max_leaf_nodes': None, 'min_impurity_decrease': 0.0, 'min_samples_leaf': 1, 'min_samples_split': 2, 'min_weight_fraction_leaf': 0.0, 'random_state': 42, 'splitter': 'best'}\n"
          ]
        }
      ]
    },
    {
      "cell_type": "code",
      "source": [
        "# random search\n",
        "random_param_dist = {\n",
        "    'criterion': [ 'entropy'],\n",
        "    'max_depth': [10,20],\n",
        "    'min_samples_split': [2, 5, 10],\n",
        "    'min_samples_leaf': [1, 2],\n",
        "    'max_features': [ 'sqrt', 'log2', None]\n",
        "}\n",
        "\n",
        "random_search_tree = RandomizedSearchCV(baseline_tree, param_distributions=random_param_dist, n_iter=50, cv=5, random_state=43)\n",
        "random_search_tree.fit(X_train, y_train)\n",
        "\n",
        "best_random_params = random_search_tree.best_params_\n",
        "\n",
        "random_search_tree_predictions = random_search_tree.predict(X_test)\n",
        "print(\"Random Search Decision Tree Classification Report:\")\n",
        "print(classification_report(y_test, random_search_tree_predictions))\n",
        "random_search_accuracy = accuracy_score(y_test, random_search_tree_predictions)\n",
        "print(\"Random Search Decision Tree Accuracy:\", random_search_accuracy)"
      ],
      "metadata": {
        "colab": {
          "base_uri": "https://localhost:8080/"
        },
        "id": "nUr35Xe9ICHt",
        "outputId": "38c13f3d-25b9-44ac-9272-a7703e922c0c"
      },
      "execution_count": null,
      "outputs": [
        {
          "output_type": "stream",
          "name": "stderr",
          "text": [
            "/usr/local/lib/python3.10/dist-packages/sklearn/model_selection/_search.py:305: UserWarning: The total space of parameters 36 is smaller than n_iter=50. Running 36 iterations. For exhaustive searches, use GridSearchCV.\n",
            "  warnings.warn(\n"
          ]
        },
        {
          "output_type": "stream",
          "name": "stdout",
          "text": [
            "Random Search Decision Tree Classification Report:\n",
            "              precision    recall  f1-score   support\n",
            "\n",
            "        away       0.22      0.18      0.20        28\n",
            "    bullseye       0.40      0.38      0.39        37\n",
            "      circle       0.50      0.71      0.59        28\n",
            "        dino       0.18      0.16      0.17        25\n",
            "        dots       0.71      0.60      0.65        20\n",
            "     h_lines       0.85      0.81      0.83        36\n",
            "  high_lines       0.19      0.29      0.23        28\n",
            "  slant_down       0.26      0.29      0.27        24\n",
            "    slant_up       0.29      0.17      0.22        29\n",
            "        star       0.55      0.63      0.59        27\n",
            "     v_lines       0.58      0.45      0.51        33\n",
            "  wide_lines       0.26      0.23      0.25        30\n",
            "     x_shape       0.34      0.40      0.37        25\n",
            "\n",
            "    accuracy                           0.41       370\n",
            "   macro avg       0.41      0.41      0.40       370\n",
            "weighted avg       0.42      0.41      0.41       370\n",
            "\n",
            "Random Search Decision Tree Accuracy: 0.4135135135135135\n"
          ]
        }
      ]
    },
    {
      "cell_type": "code",
      "source": [
        "\n",
        "# grid search\n",
        "grid_param_grid = {\n",
        "    'criterion': ['entropy'],\n",
        "    'max_depth': [ 10,20, 30],\n",
        "    'min_samples_split': [2,6,8, 10],\n",
        "    'min_samples_leaf': [1,2,6, 10],\n",
        "    'max_features': ['sqrt', 'log2']\n",
        "}\n",
        "grid_search_tree = GridSearchCV(baseline_tree, param_grid=grid_param_grid, cv=5)\n",
        "grid_search_tree.fit(X_train, y_train)\n",
        "best_grid_params = grid_search_tree.best_params_\n",
        "grid_search_tree_predictions = grid_search_tree.predict(X_test)\n",
        "print(\"\\nGrid Search Decision Tree Classification Report:\")\n",
        "print(classification_report(y_test, grid_search_tree_predictions))\n",
        "grid_search_accuracy = accuracy_score(y_test, grid_search_tree_predictions)\n",
        "print(\"Grid Search Decision Tree Accuracy:\", grid_search_accuracy)"
      ],
      "metadata": {
        "colab": {
          "base_uri": "https://localhost:8080/"
        },
        "id": "HXjoZVPVLTbA",
        "outputId": "7161eede-0337-4703-ff58-f3051d9c6e51"
      },
      "execution_count": null,
      "outputs": [
        {
          "output_type": "stream",
          "name": "stdout",
          "text": [
            "\n",
            "Grid Search Decision Tree Classification Report:\n",
            "              precision    recall  f1-score   support\n",
            "\n",
            "        away       0.29      0.29      0.29        28\n",
            "    bullseye       0.29      0.24      0.26        37\n",
            "      circle       0.40      0.50      0.44        28\n",
            "        dino       0.12      0.08      0.10        25\n",
            "        dots       0.80      0.80      0.80        20\n",
            "     h_lines       0.50      0.50      0.50        36\n",
            "  high_lines       0.30      0.32      0.31        28\n",
            "  slant_down       0.12      0.12      0.12        24\n",
            "    slant_up       0.17      0.14      0.15        29\n",
            "        star       0.58      0.70      0.63        27\n",
            "     v_lines       0.81      0.76      0.78        33\n",
            "  wide_lines       0.32      0.33      0.33        30\n",
            "     x_shape       0.33      0.40      0.36        25\n",
            "\n",
            "    accuracy                           0.40       370\n",
            "   macro avg       0.39      0.40      0.39       370\n",
            "weighted avg       0.39      0.40      0.39       370\n",
            "\n",
            "Grid Search Decision Tree Accuracy: 0.3972972972972973\n"
          ]
        }
      ]
    },
    {
      "cell_type": "code",
      "source": [
        "#  Random Forest Classifier\n",
        "baseline_forest = RandomForestClassifier(random_state=42)\n",
        "baseline_forest.fit(X_train, y_train)\n",
        "baseline_forest_predictions = baseline_forest.predict(X_test)\n",
        "print(\"\\nBaseline Random Forest Classification Report:\")\n",
        "print(classification_report(y_test, baseline_forest_predictions))\n",
        "rf_baseline_accuracy = accuracy_score(y_test, baseline_forest_predictions)\n",
        "print(\"Baseline rf Tree Accuracy:\", rf_baseline_accuracy)"
      ],
      "metadata": {
        "colab": {
          "base_uri": "https://localhost:8080/"
        },
        "id": "0kA9a_CcEcrs",
        "outputId": "74edd2aa-e9ea-475d-81b7-880cdd38c90b"
      },
      "execution_count": null,
      "outputs": [
        {
          "output_type": "stream",
          "name": "stdout",
          "text": [
            "\n",
            "Baseline Random Forest Classification Report:\n",
            "              precision    recall  f1-score   support\n",
            "\n",
            "        away       0.28      0.18      0.22        28\n",
            "    bullseye       0.33      0.27      0.30        37\n",
            "      circle       0.57      0.86      0.69        28\n",
            "        dino       0.11      0.08      0.09        25\n",
            "        dots       0.83      0.95      0.88        20\n",
            "     h_lines       0.71      0.75      0.73        36\n",
            "  high_lines       0.32      0.25      0.28        28\n",
            "  slant_down       0.23      0.21      0.22        24\n",
            "    slant_up       0.25      0.17      0.20        29\n",
            "        star       0.56      0.74      0.63        27\n",
            "     v_lines       0.69      0.73      0.71        33\n",
            "  wide_lines       0.24      0.23      0.24        30\n",
            "     x_shape       0.43      0.64      0.52        25\n",
            "\n",
            "    accuracy                           0.46       370\n",
            "   macro avg       0.43      0.47      0.44       370\n",
            "weighted avg       0.43      0.46      0.44       370\n",
            "\n",
            "Baseline rf Tree Accuracy: 0.46216216216216216\n"
          ]
        }
      ]
    },
    {
      "cell_type": "code",
      "source": [
        "#random search\n",
        "random_param_dist = {\n",
        "    'n_estimators': [ 100, 200],\n",
        "    'criterion': [ 'entropy'],\n",
        "    'max_depth': [None, 10, 20, 30],\n",
        "    'min_samples_split': [2, 5, 10],\n",
        "    'min_samples_leaf': [1, 2, 4,6],\n",
        "    'max_features': [ 'sqrt', 'log2']\n",
        "}\n",
        "random_search_forest = RandomizedSearchCV(baseline_forest, param_distributions=random_param_dist, n_iter=50, cv=5, random_state=43)\n",
        "random_search_forest.fit(X_train, y_train)\n",
        "best_random_params = random_search_forest.best_params_\n",
        "random_search_forest_predictions = random_search_forest.predict(X_test)\n",
        "print(\"\\nRandom Search rf Decision Tree Classification Report:\")\n",
        "print(classification_report(y_test, random_search_forest_predictions))\n",
        "random_search_accuracy = accuracy_score(y_test, random_search_forest_predictions)\n",
        "print(\"Random Search rf Decision Tree Accuracy:\", random_search_accuracy)"
      ],
      "metadata": {
        "colab": {
          "base_uri": "https://localhost:8080/"
        },
        "id": "2HX7HuE2b-LI",
        "outputId": "656a7550-c1f1-4d81-fe14-f61e864c7cb5"
      },
      "execution_count": null,
      "outputs": [
        {
          "output_type": "stream",
          "name": "stdout",
          "text": [
            "\n",
            "Random Search Decision Tree Classification Report:\n",
            "              precision    recall  f1-score   support\n",
            "\n",
            "        away       0.39      0.25      0.30        28\n",
            "    bullseye       0.34      0.30      0.32        37\n",
            "      circle       0.51      0.75      0.61        28\n",
            "        dino       0.17      0.08      0.11        25\n",
            "        dots       0.86      0.95      0.90        20\n",
            "     h_lines       0.73      0.75      0.74        36\n",
            "  high_lines       0.37      0.36      0.36        28\n",
            "  slant_down       0.14      0.12      0.13        24\n",
            "    slant_up       0.25      0.17      0.20        29\n",
            "        star       0.54      0.70      0.61        27\n",
            "     v_lines       0.69      0.73      0.71        33\n",
            "  wide_lines       0.33      0.37      0.35        30\n",
            "     x_shape       0.41      0.60      0.48        25\n",
            "\n",
            "    accuracy                           0.47       370\n",
            "   macro avg       0.44      0.47      0.45       370\n",
            "weighted avg       0.44      0.47      0.45       370\n",
            "\n",
            "Random Search Decision Tree Accuracy: 0.4702702702702703\n"
          ]
        }
      ]
    },
    {
      "cell_type": "code",
      "source": [
        "\n",
        "# Grid Search\n",
        "grid_param_grid = {\n",
        "    'n_estimators': [50, 100, 200],\n",
        "    'criterion': ['gini', 'entropy'],\n",
        "    'max_depth': [None, 10, 20, 30],\n",
        "    'min_samples_split': [2, 5, 10],\n",
        "    'min_samples_leaf': [1, 2, 4],\n",
        "    'max_features': [ 'sqrt', 'log2']\n",
        "}\n",
        "grid_search_forest = GridSearchCV(baseline_forest, param_grid=grid_param_grid, cv=5)\n",
        "grid_search_forest.fit(X_train, y_train)\n",
        "best_grid_params = grid_search_forest.best_params_\n",
        "grid_search_forest_predictions = grid_search_forest.predict(X_test)\n",
        "print(\"\\nGrid Search rf Decision Tree Classification Report:\")\n",
        "print(classification_report(y_test, grid_search_forest_predictions))\n",
        "grid_search_accuracy = accuracy_score(y_test, grid_search_forest_predictions)\n",
        "print(\"Grid Search rf Decision Tree Accuracy:\", grid_search_accuracy)"
      ],
      "metadata": {
        "colab": {
          "base_uri": "https://localhost:8080/"
        },
        "id": "2EEe1XAsphp3",
        "outputId": "3b2c136b-6b36-47a6-9970-da8f2fa3e970"
      },
      "execution_count": null,
      "outputs": [
        {
          "output_type": "stream",
          "name": "stdout",
          "text": [
            "\n",
            "Grid Search Decision Tree Classification Report:\n",
            "              precision    recall  f1-score   support\n",
            "\n",
            "        away       0.40      0.21      0.28        28\n",
            "    bullseye       0.33      0.30      0.31        37\n",
            "      circle       0.51      0.75      0.61        28\n",
            "        dino       0.30      0.12      0.17        25\n",
            "        dots       0.79      0.95      0.86        20\n",
            "     h_lines       0.77      0.83      0.80        36\n",
            "  high_lines       0.27      0.25      0.26        28\n",
            "  slant_down       0.15      0.17      0.16        24\n",
            "    slant_up       0.26      0.17      0.21        29\n",
            "        star       0.63      0.70      0.67        27\n",
            "     v_lines       0.71      0.73      0.72        33\n",
            "  wide_lines       0.24      0.27      0.25        30\n",
            "     x_shape       0.44      0.68      0.53        25\n",
            "\n",
            "    accuracy                           0.47       370\n",
            "   macro avg       0.45      0.47      0.45       370\n",
            "weighted avg       0.45      0.47      0.45       370\n",
            "\n",
            "Grid Search Decision Tree Accuracy: 0.4702702702702703\n"
          ]
        }
      ]
    }
  ]
}