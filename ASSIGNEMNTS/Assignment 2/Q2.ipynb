{
  "nbformat": 4,
  "nbformat_minor": 0,
  "metadata": {
    "colab": {
      "provenance": [],
      "authorship_tag": "ABX9TyOr2Mxck+zj/c9BT4iFXCMk",
      "include_colab_link": true
    },
    "kernelspec": {
      "name": "python3",
      "display_name": "Python 3"
    },
    "language_info": {
      "name": "python"
    }
  },
  "cells": [
    {
      "cell_type": "markdown",
      "metadata": {
        "id": "view-in-github",
        "colab_type": "text"
      },
      "source": [
        "<a href=\"https://colab.research.google.com/github/RohaArslan/SP24ML/blob/main/Q2.ipynb\" target=\"_parent\"><img src=\"https://colab.research.google.com/assets/colab-badge.svg\" alt=\"Open In Colab\"/></a>"
      ]
    },
    {
      "cell_type": "code",
      "execution_count": null,
      "metadata": {
        "id": "YnonBqtht1_b"
      },
      "outputs": [],
      "source": [
        "# Date 26.03.24\n",
        "# CSC354 – Assignmen2 – ML – Decision Trees\n",
        "# ROHA ARSLAN\n",
        "# FA21-BSE-116\n",
        "# In Question 2 I'm importing data from drive, then used encoding. After splitting the data, I implemented decision tree regressor (baseline) then implemented random search and grid search on data, and used MSE to compare the implementation\n",
        "import pandas as pd\n",
        "from sklearn.model_selection import train_test_split, RandomizedSearchCV, GridSearchCV\n",
        "from sklearn.tree import DecisionTreeRegressor\n",
        "from sklearn.metrics import mean_squared_error\n"
      ]
    },
    {
      "cell_type": "code",
      "source": [
        "from google.colab import drive\n",
        "drive.mount('/content/drive')\n",
        "file_path = '/content/drive/My Drive/ML/cars-dataset.csv'\n",
        "cars_df = pd.read_csv(file_path)\n"
      ],
      "metadata": {
        "colab": {
          "base_uri": "https://localhost:8080/"
        },
        "id": "cfmw2zE8uAbG",
        "outputId": "10caae81-ccd3-4ab2-ad65-63c1a0ab085e"
      },
      "execution_count": null,
      "outputs": [
        {
          "output_type": "stream",
          "name": "stdout",
          "text": [
            "Drive already mounted at /content/drive; to attempt to forcibly remount, call drive.mount(\"/content/drive\", force_remount=True).\n"
          ]
        }
      ]
    },
    {
      "cell_type": "code",
      "source": [
        "print(cars_df.head())\n",
        "cars_df = pd.get_dummies(cars_df, drop_first=True)\n",
        "X = cars_df.drop(columns=['selling_price'])\n",
        "y = cars_df['selling_price']\n",
        "# Splitting data\n",
        "X_train, X_test, y_train, y_test = train_test_split(X, y, test_size=0.2, random_state=42)\n"
      ],
      "metadata": {
        "colab": {
          "base_uri": "https://localhost:8080/"
        },
        "id": "sFVUXGPqueFX",
        "outputId": "05a034ca-2b76-486c-fed3-602814a40d3b"
      },
      "execution_count": null,
      "outputs": [
        {
          "output_type": "stream",
          "name": "stdout",
          "text": [
            "   year  km_driven    fuel seller_type transmission         owner  \\\n",
            "0  2007      70000  Petrol  Individual       Manual   First Owner   \n",
            "1  2007      50000  Petrol  Individual       Manual   First Owner   \n",
            "2  2012     100000  Diesel  Individual       Manual   First Owner   \n",
            "3  2017      46000  Petrol  Individual       Manual   First Owner   \n",
            "4  2014     141000  Diesel  Individual       Manual  Second Owner   \n",
            "\n",
            "   selling_price  \n",
            "0          60000  \n",
            "1         135000  \n",
            "2         600000  \n",
            "3         250000  \n",
            "4         450000  \n"
          ]
        }
      ]
    },
    {
      "cell_type": "code",
      "source": [
        "#baseline decision tree regressor\n",
        "baseline_tree = DecisionTreeRegressor(random_state=42)\n",
        "baseline_tree.fit(X_train, y_train)\n",
        "baseline_predictions = baseline_tree.predict(X_test)\n",
        "baseline_mse = mean_squared_error(y_test, baseline_predictions)\n",
        "print(\"Baseline Decision Tree MSE:\", baseline_mse)"
      ],
      "metadata": {
        "colab": {
          "base_uri": "https://localhost:8080/"
        },
        "id": "8UOBqd0Ru17m",
        "outputId": "9eab6c32-1a64-4c53-b78a-5a0944049418"
      },
      "execution_count": null,
      "outputs": [
        {
          "output_type": "stream",
          "name": "stdout",
          "text": [
            "Baseline Decision Tree MSE: 204769594752.01428\n"
          ]
        }
      ]
    },
    {
      "cell_type": "code",
      "source": [
        "\n",
        "# Random Search\n",
        "random_param_dist = {\n",
        "    'max_depth': [None, 10, 20, 30,50],\n",
        "    'min_samples_split': [2, 5, 10],\n",
        "    'min_samples_leaf': [1, 2, 4],\n",
        "    'max_features': [ 'sqrt', 'log2']\n",
        "}\n",
        "\n",
        "random_search_tree = RandomizedSearchCV(baseline_tree, param_distributions=random_param_dist, n_iter=50, cv=5, random_state=42)\n",
        "random_search_tree.fit(X_train, y_train)\n",
        "best_random_params = random_search_tree.best_params_\n",
        "random_search_tree_predictions = random_search_tree.predict(X_test)\n",
        "random_search_mse = mean_squared_error(y_test, random_search_tree_predictions)\n",
        "print(\"Random Search Decision Tree MSE:\", random_search_mse)"
      ],
      "metadata": {
        "colab": {
          "base_uri": "https://localhost:8080/"
        },
        "id": "WVKZpgpXvkNI",
        "outputId": "10768731-7593-4315-ce1c-af2453269831"
      },
      "execution_count": null,
      "outputs": [
        {
          "output_type": "stream",
          "name": "stdout",
          "text": [
            "Random Search Decision Tree MSE: 160781260705.86304\n"
          ]
        }
      ]
    },
    {
      "cell_type": "code",
      "source": [
        "# Grid Search\n",
        "grid_param_grid = {\n",
        "    'max_depth': [ 80],\n",
        "    'min_samples_split': [10],\n",
        "    'min_samples_leaf': [ 15],\n",
        "    'max_features': [  'sqrt', 'log2', None]\n",
        "}\n",
        "\n",
        "grid_search_tree = GridSearchCV(baseline_tree, param_grid=grid_param_grid, cv=5)\n",
        "grid_search_tree.fit(X_train, y_train)\n",
        "best_grid_params = grid_search_tree.best_params_\n",
        "grid_search_tree_predictions = grid_search_tree.predict(X_test)\n",
        "grid_search_mse = mean_squared_error(y_test, grid_search_tree_predictions)\n",
        "print(\"Grid Search Decision Tree MSE:\", grid_search_mse)"
      ],
      "metadata": {
        "colab": {
          "base_uri": "https://localhost:8080/"
        },
        "id": "JQo2Zl4lv87U",
        "outputId": "d9edac92-e1e4-4789-826e-77bf02437fc2"
      },
      "execution_count": null,
      "outputs": [
        {
          "output_type": "stream",
          "name": "stdout",
          "text": [
            "Grid Search Decision Tree MSE: 174084402715.33737\n"
          ]
        }
      ]
    }
  ]
}